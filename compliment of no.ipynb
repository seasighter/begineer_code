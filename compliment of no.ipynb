{
 "cells": [
  {
   "cell_type": "markdown",
   "id": "9745b448",
   "metadata": {},
   "source": [
    "finding compliment of no."
   ]
  },
  {
   "cell_type": "code",
   "execution_count": 1,
   "id": "50392b18",
   "metadata": {},
   "outputs": [
    {
     "name": "stdout",
     "output_type": "stream",
     "text": [
      "2\n"
     ]
    }
   ],
   "source": [
    "n=int(input())\n",
    "m=n\n",
    "if n==0:\n",
    "    print(0)\n",
    "mask =0\n",
    "while m!=0:\n",
    "    mask= (mask<<1)|1\n",
    "    m=m>>1\n",
    "ans= (~n) & mask\n",
    "print(ans)\n",
    "    \n",
    "    "
   ]
  },
  {
   "cell_type": "code",
   "execution_count": null,
   "id": "702b8cdf",
   "metadata": {},
   "outputs": [],
   "source": [
    "\n"
   ]
  },
  {
   "cell_type": "code",
   "execution_count": null,
   "id": "146f3579",
   "metadata": {},
   "outputs": [],
   "source": []
  }
 ],
 "metadata": {
  "kernelspec": {
   "display_name": "Python 3 (ipykernel)",
   "language": "python",
   "name": "python3"
  },
  "language_info": {
   "codemirror_mode": {
    "name": "ipython",
    "version": 3
   },
   "file_extension": ".py",
   "mimetype": "text/x-python",
   "name": "python",
   "nbconvert_exporter": "python",
   "pygments_lexer": "ipython3",
   "version": "3.9.13"
  },
  "vscode": {
   "interpreter": {
    "hash": "be1921aa5ceaaf4e7feceb2f19e28ac1749afe2fafa462f57e88079eeef2e083"
   }
  }
 },
 "nbformat": 4,
 "nbformat_minor": 5
}
