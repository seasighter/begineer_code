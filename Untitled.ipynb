{
 "cells": [
  {
   "cell_type": "markdown",
   "id": "fe7a9645",
   "metadata": {},
   "source": [
    "prime number"
   ]
  },
  {
   "cell_type": "code",
   "execution_count": 33,
   "id": "5a618b9a",
   "metadata": {
    "scrolled": true
   },
   "outputs": [
    {
     "name": "stdout",
     "output_type": "stream",
     "text": [
      "112 : is not prime no\n"
     ]
    }
   ],
   "source": [
    "n=112\n",
    "isprime=1\n",
    "for i in range(2,n):\n",
    "    if (n%i==0):\n",
    "        #print(\"not prime\")\n",
    "        isprime=0\n",
    "        break\n",
    "if isprime==1:\n",
    "    print(n,\": is prime no\")\n",
    "else:\n",
    "    print(n,\": is not prime no\")\n",
    "\n",
    "    \n",
    "        \n",
    "    \n",
    "    "
   ]
  },
  {
   "cell_type": "code",
   "execution_count": null,
   "id": "d7cc6949",
   "metadata": {},
   "outputs": [],
   "source": []
  },
  {
   "cell_type": "code",
   "execution_count": null,
   "id": "f0c7d231",
   "metadata": {},
   "outputs": [],
   "source": []
  }
 ],
 "metadata": {
  "kernelspec": {
   "display_name": "Python 3 (ipykernel)",
   "language": "python",
   "name": "python3"
  },
  "language_info": {
   "codemirror_mode": {
    "name": "ipython",
    "version": 3
   },
   "file_extension": ".py",
   "mimetype": "text/x-python",
   "name": "python",
   "nbconvert_exporter": "python",
   "pygments_lexer": "ipython3",
   "version": "3.9.13"
  }
 },
 "nbformat": 4,
 "nbformat_minor": 5
}
