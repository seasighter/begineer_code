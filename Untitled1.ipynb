{
 "cells": [
  {
   "cell_type": "markdown",
   "id": "4ff6b13a",
   "metadata": {},
   "source": [
    "SUBTRACT THE SUM AND PRODUCT OF DIGITS"
   ]
  },
  {
   "cell_type": "markdown",
   "id": "351655d6",
   "metadata": {},
   "source": [
    "checking how many \"1\" an integer in binary digit contains"
   ]
  },
  {
   "cell_type": "code",
   "execution_count": 20,
   "id": "3f367802",
   "metadata": {
    "scrolled": true
   },
   "outputs": [
    {
     "name": "stdout",
     "output_type": "stream",
     "text": [
      "2\n",
      "difference : 1\n"
     ]
    }
   ],
   "source": [
    "n=23\n",
    "print(len(str(n)))\n",
    "sum=0\n",
    "pro=1\n",
    "for i in range(0,len(str(n))):\n",
    "    q=n%10\n",
    "    sum=sum+q\n",
    "    pro=pro*q\n",
    "    n=int(n/10)\n",
    "print(\"difference :\",pro-sum)\n",
    "\n",
    "\n"
   ]
  },
  {
   "cell_type": "code",
   "execution_count": 42,
   "id": "0ae2e06e",
   "metadata": {},
   "outputs": [
    {
     "name": "stdout",
     "output_type": "stream",
     "text": [
      "8\n"
     ]
    }
   ],
   "source": [
    "n=1011\n",
    "res=0\n",
    "while n!=0:\n",
    "    res+=n%2\n",
    "    n=n>>1\n",
    "print(int(res))"
   ]
  },
  {
   "cell_type": "code",
   "execution_count": null,
   "id": "b7745bdf",
   "metadata": {},
   "outputs": [],
   "source": []
  },
  {
   "cell_type": "code",
   "execution_count": null,
   "id": "8a8350f9",
   "metadata": {},
   "outputs": [],
   "source": []
  }
 ],
 "metadata": {
  "kernelspec": {
   "display_name": "Python 3 (ipykernel)",
   "language": "python",
   "name": "python3"
  },
  "language_info": {
   "codemirror_mode": {
    "name": "ipython",
    "version": 3
   },
   "file_extension": ".py",
   "mimetype": "text/x-python",
   "name": "python",
   "nbconvert_exporter": "python",
   "pygments_lexer": "ipython3",
   "version": "3.9.13"
  }
 },
 "nbformat": 4,
 "nbformat_minor": 5
}
