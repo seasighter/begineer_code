{
 "cells": [
  {
   "cell_type": "markdown",
   "id": "6167b95a",
   "metadata": {},
   "source": [
    "reversing an integer"
   ]
  },
  {
   "cell_type": "markdown",
   "id": "8cec1b8a",
   "metadata": {},
   "source": [
    "1 st method"
   ]
  },
  {
   "cell_type": "code",
   "execution_count": 17,
   "id": "926b5943",
   "metadata": {},
   "outputs": [
    {
     "name": "stdout",
     "output_type": "stream",
     "text": [
      "34547\n"
     ]
    }
   ],
   "source": [
    "n= 74543\n",
    "t=str(n)#convert into string\n",
    "l=list(t)#convert into list\n",
    "l.reverse()#reverse the list\n",
    "rnum = ''.join(l)#to convert list back to number\n",
    "print(rnum)\n",
    "\n",
    "    "
   ]
  },
  {
   "cell_type": "code",
   "execution_count": 29,
   "id": "dfdb5ae7",
   "metadata": {},
   "outputs": [
    {
     "name": "stdout",
     "output_type": "stream",
     "text": [
      "34547\n"
     ]
    }
   ],
   "source": [
    "n= 74543\n",
    "a=0\n",
    "for i in range(0,len(str(n))):\n",
    "    d=n%10\n",
    "    a=(a*10)+d\n",
    "    n=n//10\n",
    "print(a)"
   ]
  },
  {
   "cell_type": "code",
   "execution_count": 25,
   "id": "7edb33cf",
   "metadata": {},
   "outputs": [
    {
     "name": "stdout",
     "output_type": "stream",
     "text": [
      "202\n"
     ]
    }
   ],
   "source": []
  },
  {
   "cell_type": "code",
   "execution_count": null,
   "id": "bb916a30",
   "metadata": {},
   "outputs": [],
   "source": []
  }
 ],
 "metadata": {
  "kernelspec": {
   "display_name": "Python 3 (ipykernel)",
   "language": "python",
   "name": "python3"
  },
  "language_info": {
   "codemirror_mode": {
    "name": "ipython",
    "version": 3
   },
   "file_extension": ".py",
   "mimetype": "text/x-python",
   "name": "python",
   "nbconvert_exporter": "python",
   "pygments_lexer": "ipython3",
   "version": "3.9.13"
  },
  "widgets": {
   "application/vnd.jupyter.widget-state+json": {
    "state": {},
    "version_major": 2,
    "version_minor": 0
   }
  }
 },
 "nbformat": 4,
 "nbformat_minor": 5
}
