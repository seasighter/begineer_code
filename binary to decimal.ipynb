{
 "cells": [
  {
   "cell_type": "markdown",
   "id": "4d67a6f8",
   "metadata": {},
   "source": [
    "conversion from binary to decimal"
   ]
  },
  {
   "cell_type": "code",
   "execution_count": null,
   "id": "1462a475",
   "metadata": {},
   "outputs": [],
   "source": [
    "n=11001\n",
    "i=0\n",
    "a=0\n",
    "while n:\n",
    "    bit= n%10\n",
    "    if bit!=0:\n",
    "        a=a+2**i\n",
    "    n=n//10\n",
    "    i+=1\n",
    "print(a)\n",
    "        \n",
    "    "
   ]
  },
  {
   "cell_type": "code",
   "execution_count": null,
   "id": "f6ac715d",
   "metadata": {},
   "outputs": [],
   "source": []
  },
  {
   "cell_type": "code",
   "execution_count": null,
   "id": "28a5ecfc",
   "metadata": {},
   "outputs": [],
   "source": [
    "import sys\n",
    "print(check)\n",
    "def reverse(x):\n",
    "    a=0\n",
    "    while x!=0:\n",
    "        digit= x%10\n",
    "        a=(a*10)+digit\n",
    "        x=x//10\n",
    "    if a<=2**31 or a>=-2**31:\n",
    "        return a\n",
    "    else:\n",
    "        return 0\n",
    "    \n",
    "print(reverse(123))\n",
    "print(sys.maxsize-1)"
   ]
  },
  {
   "cell_type": "code",
   "execution_count": null,
   "id": "599f25b8",
   "metadata": {},
   "outputs": [],
   "source": []
  },
  {
   "cell_type": "code",
   "execution_count": null,
   "id": "9b51683f",
   "metadata": {},
   "outputs": [],
   "source": []
  }
 ],
 "metadata": {
  "kernelspec": {
   "display_name": "Python 3 (ipykernel)",
   "language": "python",
   "name": "python3"
  },
  "language_info": {
   "codemirror_mode": {
    "name": "ipython",
    "version": 3
   },
   "file_extension": ".py",
   "mimetype": "text/x-python",
   "name": "python",
   "nbconvert_exporter": "python",
   "pygments_lexer": "ipython3",
   "version": "3.9.13"
  }
 },
 "nbformat": 4,
 "nbformat_minor": 5
}
