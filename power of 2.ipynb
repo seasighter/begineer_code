{
 "cells": [
  {
   "cell_type": "markdown",
   "id": "927fbadf",
   "metadata": {},
   "source": [
    "to check if a no. is in power of 2 or not"
   ]
  },
  {
   "cell_type": "code",
   "execution_count": 12,
   "id": "8f2cc7c5",
   "metadata": {},
   "outputs": [
    {
     "name": "stdout",
     "output_type": "stream",
     "text": [
      "12\n",
      "false\n"
     ]
    }
   ],
   "source": [
    "n=int(input())\n",
    "while n>=2:\n",
    "    n=n/2\n",
    "if n==1:\n",
    "    print(\"true\")\n",
    "else:\n",
    "    print(\"false\")\n",
    "    "
   ]
  },
  {
   "cell_type": "markdown",
   "id": "c3eeb284",
   "metadata": {},
   "source": [
    "2nd method"
   ]
  },
  {
   "cell_type": "code",
   "execution_count": 17,
   "id": "c93163df",
   "metadata": {},
   "outputs": [
    {
     "name": "stdout",
     "output_type": "stream",
     "text": [
      "16\n"
     ]
    },
    {
     "ename": "SyntaxError",
     "evalue": "'return' outside function (981588363.py, line 5)",
     "output_type": "error",
     "traceback": [
      "\u001b[1;36m  File \u001b[1;32m\"C:\\Users\\deepa\\AppData\\Local\\Temp\\ipykernel_14172\\981588363.py\"\u001b[1;36m, line \u001b[1;32m5\u001b[0m\n\u001b[1;33m    return True\u001b[0m\n\u001b[1;37m    ^\u001b[0m\n\u001b[1;31mSyntaxError\u001b[0m\u001b[1;31m:\u001b[0m 'return' outside function\n"
     ]
    }
   ],
   "source": [
    "n=int(input())\n",
    "for i in range (0,30):\n",
    "    ans=pow(2,i)\n",
    "    if ans==n:\n",
    "        return True\n",
    "else :\n",
    "    return False\n",
    "\n",
    "    "
   ]
  },
  {
   "cell_type": "code",
   "execution_count": null,
   "id": "ad456366",
   "metadata": {},
   "outputs": [],
   "source": []
  }
 ],
 "metadata": {
  "kernelspec": {
   "display_name": "Python 3 (ipykernel)",
   "language": "python",
   "name": "python3"
  },
  "language_info": {
   "codemirror_mode": {
    "name": "ipython",
    "version": 3
   },
   "file_extension": ".py",
   "mimetype": "text/x-python",
   "name": "python",
   "nbconvert_exporter": "python",
   "pygments_lexer": "ipython3",
   "version": "3.9.13"
  }
 },
 "nbformat": 4,
 "nbformat_minor": 5
}
