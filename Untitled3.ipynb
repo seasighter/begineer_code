{
 "cells": [
  {
   "cell_type": "markdown",
   "id": "42f0c8d1",
   "metadata": {},
   "source": [
    "decimal to binary"
   ]
  },
  {
   "cell_type": "code",
   "execution_count": 3,
   "id": "c4b911a9",
   "metadata": {},
   "outputs": [
    {
     "name": "stdout",
     "output_type": "stream",
     "text": [
      "110010\n"
     ]
    }
   ],
   "source": [
    "n=50\n",
    "a=0\n",
    "i=0\n",
    "while n!=0:\n",
    "    bit = n&1   # n&1 will give us the last bit\n",
    "    a=bit*(10**i)+a # it is the formula \n",
    "    n=n>>1 # it will right shift every  digit\n",
    "    i+=1\n",
    "print(a)\n",
    "    \n",
    "        "
   ]
  },
  {
   "cell_type": "code",
   "execution_count": null,
   "id": "1ed997fa",
   "metadata": {},
   "outputs": [],
   "source": []
  }
 ],
 "metadata": {
  "kernelspec": {
   "display_name": "Python 3 (ipykernel)",
   "language": "python",
   "name": "python3"
  },
  "language_info": {
   "codemirror_mode": {
    "name": "ipython",
    "version": 3
   },
   "file_extension": ".py",
   "mimetype": "text/x-python",
   "name": "python",
   "nbconvert_exporter": "python",
   "pygments_lexer": "ipython3",
   "version": "3.9.13"
  }
 },
 "nbformat": 4,
 "nbformat_minor": 5
}
