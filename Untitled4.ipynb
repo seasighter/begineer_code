{
 "cells": [
  {
   "cell_type": "markdown",
   "id": "4d67a6f8",
   "metadata": {},
   "source": [
    "conversion from binary to decimal"
   ]
  },
  {
   "cell_type": "code",
   "execution_count": 2,
   "id": "1462a475",
   "metadata": {},
   "outputs": [
    {
     "name": "stdout",
     "output_type": "stream",
     "text": [
      "20\n"
     ]
    }
   ],
   "source": [
    "n=10100\n",
    "i=0\n",
    "a=0\n",
    "while n:\n",
    "    bit= n%10\n",
    "    if bit!=0:\n",
    "        a=a+2**i\n",
    "    n=n//10\n",
    "    i+=1\n",
    "print(a)\n",
    "        \n",
    "    "
   ]
  },
  {
   "cell_type": "code",
   "execution_count": null,
   "id": "f6ac715d",
   "metadata": {},
   "outputs": [],
   "source": [
    "\n",
    "\n"
   ]
  }
 ],
 "metadata": {
  "kernelspec": {
   "display_name": "Python 3 (ipykernel)",
   "language": "python",
   "name": "python3"
  },
  "language_info": {
   "codemirror_mode": {
    "name": "ipython",
    "version": 3
   },
   "file_extension": ".py",
   "mimetype": "text/x-python",
   "name": "python",
   "nbconvert_exporter": "python",
   "pygments_lexer": "ipython3",
   "version": "3.9.13"
  }
 },
 "nbformat": 4,
 "nbformat_minor": 5
}
